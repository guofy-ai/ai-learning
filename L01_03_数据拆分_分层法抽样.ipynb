{
 "cells": [
  {
   "cell_type": "code",
   "execution_count": 1,
   "id": "8a84d95a-c1bf-4ca5-b673-f186c97eee26",
   "metadata": {},
   "outputs": [
    {
     "name": "stdout",
     "output_type": "stream",
     "text": [
      "\n",
      "【对比总结】\n",
      "       原始占比   训练集占比  测试集占比\n",
      "消费水平                      \n",
      "中     0.482  0.4825   0.48\n",
      "低     0.322  0.3225   0.32\n",
      "高     0.196  0.1950   0.20\n"
     ]
    }
   ],
   "source": [
    "import numpy as np\n",
    "import pandas as pd\n",
    "from sklearn.model_selection import train_test_split\n",
    "\n",
    "# 练习3：\n",
    "# 使用练习1中的数据，分层抽样法体验，高保真分层划分\n",
    "# 针对消费水平这一特征，查看原始占比\n",
    "# 使用分层抽样法，按消费水平划分训练集与测试集：80/20，查看划分后每个部分中消费水平所占比例，与原始占比基本一致。\n",
    "\n",
    "DATA_FILE = \"../data/user-data.csv\"\n",
    "\n",
    "#读取数据\n",
    "data_train = pd.read_csv(DATA_FILE)\n",
    "\n",
    "# 按消费水平分层抽样，80%训练集，20%测试集\n",
    "train_set, test_set = train_test_split(\n",
    "    data_train, \n",
    "    test_size=0.2, \n",
    "    random_state=42,\n",
    "    stratify=data_train[\"消费水平\"]  # 关键：按消费水平分层抽样\n",
    ")\n",
    "\n",
    "# 计算原始数据中各消费水平的占比\n",
    "original_percent = data_train[\"消费水平\"].value_counts(normalize=True).sort_index()\n",
    "\n",
    "# 计算训练集各消费水平的占比\n",
    "train_percent = train_set[\"消费水平\"].value_counts(normalize=True).sort_index()\n",
    "\n",
    "# 计算测试集各消费水平的占比\n",
    "test_percent = test_set[\"消费水平\"].value_counts(normalize=True).sort_index()\n",
    "\n",
    "# 创建对比表格\n",
    "comparison = pd.DataFrame({\n",
    "    '原始占比': original_percent,\n",
    "    '训练集占比': train_percent,\n",
    "    '测试集占比': test_percent\n",
    "}).fillna(0)  # 填充可能缺失的值（某些类别在测试集中可能为0）\n",
    "\n",
    "print(\"\\n【对比总结】\")\n",
    "print(comparison)"
   ]
  },
  {
   "cell_type": "code",
   "execution_count": null,
   "id": "346fff55-b9c9-44f9-b89e-c8853a9a87fd",
   "metadata": {},
   "outputs": [],
   "source": []
  }
 ],
 "metadata": {
  "kernelspec": {
   "display_name": "AI开发",
   "language": "python",
   "name": "ai"
  },
  "language_info": {
   "codemirror_mode": {
    "name": "ipython",
    "version": 3
   },
   "file_extension": ".py",
   "mimetype": "text/x-python",
   "name": "python",
   "nbconvert_exporter": "python",
   "pygments_lexer": "ipython3",
   "version": "3.9.23"
  }
 },
 "nbformat": 4,
 "nbformat_minor": 5
}
