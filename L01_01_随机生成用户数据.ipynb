{
 "cells": [
  {
   "cell_type": "code",
   "execution_count": 1,
   "id": "f7314e5f-0b0f-4ff2-8c92-d6fc82521a02",
   "metadata": {},
   "outputs": [
    {
     "name": "stdout",
     "output_type": "stream",
     "text": [
      "已生成 500 条用户画像数据，已保存到 'user-data.csv' 文件。\n"
     ]
    }
   ],
   "source": [
    "import numpy as np\n",
    "import pandas as pd\n",
    "\n",
    "# 练习1：\n",
    "# 生成用户画像，共有3类特征及2类数值。\n",
    "# 3类特征：性别（男/女/未透露），所在城市（北京/上海/广州/深圳/其他），消费水平（高/中/低）\n",
    "# 2类数值：年龄(18-60)，最近活跃天数(1-30)\n",
    "\n",
    "# 生成用户数量\n",
    "num_samples = 500\n",
    "DATA_FILE = \"../data/user-data.csv\"\n",
    "\n",
    "# 随机种子，保证结果可复现\n",
    "SEED = 42\n",
    "np.random.seed(SEED)\n",
    "\n",
    "# 定义特征及采样概率（性别、城市、消费水平）\n",
    "\n",
    "sex_choices = ['男', '女', '未透露']\n",
    "sex_probs = [0.38, 0.52, 0.10]\n",
    "\n",
    "city_choices = ['北京', '上海', '广州', '深圳', '其他']\n",
    "city_probs = [0.18, 0.17, 0.15, 0.15, 0.35]\n",
    "\n",
    "level_choices = ['高', '中', '低']\n",
    "level_probs = [0.2, 0.5, 0.3]\n",
    "\n",
    "# 采样类别特征\n",
    "sex_sample = np.random.choice(sex_choices, num_samples, p=sex_probs)\n",
    "city_sample = np.random.choice(city_choices, num_samples, p=city_probs)\n",
    "level_sample = np.random.choice(level_choices, num_samples, p=level_probs)\n",
    "\n",
    "# 生成数值特征\n",
    "\n",
    "# 年龄：正态分布，取值范围 [18, 60]，均值35。标准差8(离散程度)，数据范围35±(2×8)\n",
    "age_sample = np.clip(\n",
    "    np.random.normal(loc=35, scale=8, size=num_samples),\n",
    "    18, 60\n",
    ").astype(int)\n",
    "\n",
    "# 最近活跃天数：指数分布，取值范围 [1, 30]。平均活跃天数7\n",
    "active_days_sample = np.clip(\n",
    "    np.random.exponential(scale=7, size=num_samples),\n",
    "    1, 30\n",
    ").astype(int)\n",
    "\n",
    "# 将数据整合到DataFrame中\n",
    "user_data = pd.DataFrame({\n",
    "    '性别': sex_sample,\n",
    "    '所在城市': city_sample,\n",
    "    '消费水平': level_sample,\n",
    "    '年龄': age_sample,\n",
    "    '最近活跃天数': active_days_sample\n",
    "})\n",
    "\n",
    "# 将DataFrame保存为CSV文件\n",
    "user_data.to_csv(DATA_FILE, index=False, encoding='utf-8-sig')\n",
    "print(f\"已生成 {num_samples} 条用户画像数据，已保存到 'user-data.csv' 文件。\")\n"
   ]
  },
  {
   "cell_type": "code",
   "execution_count": null,
   "id": "cbf11120-edb3-4af5-af1c-005e740ddaa5",
   "metadata": {},
   "outputs": [],
   "source": []
  }
 ],
 "metadata": {
  "kernelspec": {
   "display_name": "AI开发",
   "language": "python",
   "name": "ai"
  },
  "language_info": {
   "codemirror_mode": {
    "name": "ipython",
    "version": 3
   },
   "file_extension": ".py",
   "mimetype": "text/x-python",
   "name": "python",
   "nbconvert_exporter": "python",
   "pygments_lexer": "ipython3",
   "version": "3.9.23"
  }
 },
 "nbformat": 4,
 "nbformat_minor": 5
}
