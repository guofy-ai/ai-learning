{
 "cells": [
  {
   "cell_type": "code",
   "execution_count": 1,
   "id": "5e8fede6-3da7-449f-bfae-87d626b37245",
   "metadata": {},
   "outputs": [],
   "source": [
    "#BERT（Bidirectional Encoder Representations from Transformers）是由Google在2018年提出的预训练语言模型。\n",
    "#它通过Transformer架构和双向训练机制，能深度理解词语在上下文中的语义，显著提升了NLP任务的效果。\n",
    "#  双向上下文编码：同时考虑词语左右两侧的上下文\n",
    "#  预训练+微调范式：先在无标注数据上预训练，再针对具体任务微调\n",
    "#  Transformer编码器：基于自注意力机制处理长距离依赖\n",
    "\n",
    "# pip install transformers torch\n",
    "\n",
    "#export HF_ENDPOINT=https://hf-mirror.com\n",
    "#huggingface-cli download bert-base-uncased --local-dir /mnt/workspace/ai/models/bert-base-uncased\n",
    "\n",
    "from transformers import BertTokenizer, BertModel\n",
    "import torch\n",
    "\n",
    "# 加载预训练模型和分词器\n",
    "model_name = \"/mnt/workspace/ai/models/bert-base-uncased\"  # 常用基础模型\n",
    "tokenizer = BertTokenizer.from_pretrained(model_name)\n",
    "model = BertModel.from_pretrained(model_name)"
   ]
  },
  {
   "cell_type": "code",
   "execution_count": 6,
   "id": "3bc33483-43b1-4b24-98ef-1127df7c4bb9",
   "metadata": {},
   "outputs": [],
   "source": [
    "# 处理输入文本\n",
    "text = \"BERT understands contextual semantics.\"\n",
    "inputs = tokenizer(\n",
    "    text, \n",
    "    return_tensors=\"pt\",       # 返回PyTorch张量\n",
    "    padding=True,              # 自动填充\n",
    "    truncation=True,           # 自动截断\n",
    "    max_length=128,            # 最大长度\n",
    "    add_special_tokens=True    # 添加[CLS]和[SEP]\n",
    ")"
   ]
  },
  {
   "cell_type": "code",
   "execution_count": 7,
   "id": "265bc81c-8e67-4ec0-bf5a-acc36a6044ca",
   "metadata": {},
   "outputs": [
    {
     "name": "stdout",
     "output_type": "stream",
     "text": [
      "CLS向量形状: torch.Size([1, 768])\n"
     ]
    }
   ],
   "source": [
    "# 提取句子向量 方法一：使用[CLS]标记向量（官方推荐） [CLS]位于句首，其向量被设计为聚合全句信息：\n",
    "\n",
    "with torch.no_grad():\n",
    "    outputs = model(**inputs)\n",
    "\n",
    "# 获取[CLS]对应的向量（索引0）\n",
    "cls_vector = outputs.last_hidden_state[:, 0, :]  \n",
    "print(\"CLS向量形状:\", cls_vector.shape)  # torch.Size([1, 768])\n",
    "\n",
    "# 提取句子向量 方法二：平均所有Token向量 对非填充Token取平均，更关注实际内容：\n",
    "\n",
    "token_vectors = outputs.last_hidden_state\n",
    "attention_mask = inputs[\"attention_mask\"]\n",
    "\n",
    "# 扩展mask维度并计算有效Token均值\n",
    "mask_expanded = attention_mask.unsqueeze(-1).expand(token_vectors.size())\n",
    "sum_vectors = torch.sum(token_vectors * mask_expanded, dim=1)\n",
    "mean_vector = sum_vectors / torch.clamp(mask_expanded.sum(1), min=1e-9)\n"
   ]
  },
  {
   "cell_type": "code",
   "execution_count": 8,
   "id": "461957f9-13d9-426e-a85c-3c174df07b16",
   "metadata": {},
   "outputs": [
    {
     "data": {
      "image/png": "[encoded data removed]",
      "text/plain": [
       "<Figure size 1000x400 with 1 Axes>"
      ]
     },
     "metadata": {},
     "output_type": "display_data"
    }
   ],
   "source": [
    "import numpy as np\n",
    "import matplotlib.pyplot as plt\n",
    "\n",
    "# 转换为numpy数组\n",
    "vector_np = cls_vector.numpy().flatten()\n",
    "\n",
    "# 绘制向量分布\n",
    "plt.figure(figsize=(10, 4))\n",
    "plt.bar(range(len(vector_np)), vector_np)\n",
    "plt.title(\"BERT Sentence Vector Distribution\")\n",
    "plt.xlabel(\"Dimension\")\n",
    "plt.ylabel(\"Value\")\n",
    "plt.show()"
   ]
  },
  {
   "cell_type": "code",
   "execution_count": 10,
   "id": "96bd40d0-7997-4b13-a86e-21756fe964b7",
   "metadata": {},
   "outputs": [
    {
     "name": "stdout",
     "output_type": "stream",
     "text": [
      "句子1分词: ['i', 'deposited', 'money', 'in', 'the', 'bank', '.']\n",
      "句子2分词: ['we', 'fished', 'by', 'the', 'river', 'bank', '.']\n",
      "\n",
      "相同单词相似度 ('bank'): 0.5499\n",
      "整句相似度: 0.7796\n"
     ]
    }
   ],
   "source": [
    "from sklearn.metrics.pairwise import cosine_similarity\n",
    "\n",
    "# 测试一词多义\n",
    "text1 = \"I deposited money in the bank.\"\n",
    "text2 = \"We fished by the river bank.\"\n",
    "\n",
    "def analyze_polysemy(text1, text2, target_word=\"bank\"):\n",
    "    # 标记化并获取单词位置\n",
    "    tokens1 = tokenizer.tokenize(text1)\n",
    "    tokens2 = tokenizer.tokenize(text2)\n",
    "    \n",
    "    # 找到目标词的位置\n",
    "    word_id1 = tokens1.index(target_word)\n",
    "    word_id2 = tokens2.index(target_word)\n",
    "    \n",
    "    # 编码句子\n",
    "    inputs1 = tokenizer(text1, return_tensors=\"pt\")\n",
    "    inputs2 = tokenizer(text2, return_tensors=\"pt\")\n",
    "    \n",
    "    # 获取隐藏状态\n",
    "    with torch.no_grad():\n",
    "        outputs1 = model(**inputs1)\n",
    "        outputs2 = model(**inputs2)\n",
    "    \n",
    "    # 提取目标词的向量 (第0层是输入层)\n",
    "    word_vector1 = outputs1.last_hidden_state[0, word_id1+1]  # +1 跳过[CLS]\n",
    "    word_vector2 = outputs2.last_hidden_state[0, word_id2+1]\n",
    "    \n",
    "    # 提取句子向量 (使用[CLS])\n",
    "    sentence_vector1 = outputs1.last_hidden_state[0, 0]\n",
    "    sentence_vector2 = outputs2.last_hidden_state[0, 0]\n",
    "    \n",
    "    # 计算相似度\n",
    "    word_similarity = cosine_similarity(\n",
    "        word_vector1.numpy().reshape(1, -1), \n",
    "        word_vector2.numpy().reshape(1, -1)\n",
    "    )[0][0]\n",
    "    \n",
    "    sentence_similarity = cosine_similarity(\n",
    "        sentence_vector1.numpy().reshape(1, -1), \n",
    "        sentence_vector2.numpy().reshape(1, -1)\n",
    "    )[0][0]\n",
    "    \n",
    "    return {\n",
    "        \"word_similarity\": word_similarity,\n",
    "        \"sentence_similarity\": sentence_similarity,\n",
    "        \"tokens1\": tokens1,\n",
    "        \"tokens2\": tokens2\n",
    "    }\n",
    "\n",
    "# 执行分析\n",
    "results = analyze_polysemy(text1, text2)\n",
    "\n",
    "# 打印结果\n",
    "print(\"句子1分词:\", results[\"tokens1\"])\n",
    "print(\"句子2分词:\", results[\"tokens2\"])\n",
    "print(\"\\n相同单词相似度 ('bank'):\", f\"{results['word_similarity']:.4f}\")\n",
    "print(\"整句相似度:\", f\"{results['sentence_similarity']:.4f}\")"
   ]
  },
  {
   "cell_type": "code",
   "execution_count": null,
   "id": "ec912c6e-18ae-41f3-9f70-f08757f2abee",
   "metadata": {},
   "outputs": [],
   "source": []
  }
 ],
 "metadata": {
  "kernelspec": {
   "display_name": "AI开发",
   "language": "python",
   "name": "ai"
  },
  "language_info": {
   "codemirror_mode": {
    "name": "ipython",
    "version": 3
   },
   "file_extension": ".py",
   "mimetype": "text/x-python",
   "name": "python",
   "nbconvert_exporter": "python",
   "pygments_lexer": "ipython3",
   "version": "3.9.23"
  }
 },
 "nbformat": 4,
 "nbformat_minor": 5
}
