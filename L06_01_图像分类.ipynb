{
 "cells": [
  {
   "cell_type": "code",
   "execution_count": 1,
   "id": "6ef73a5b-ea26-4797-9872-ed1b3789c811",
   "metadata": {},
   "outputs": [
    {
     "name": "stdout",
     "output_type": "stream",
     "text": [
      "\n",
      "使用设备: cpu\n",
      "\n",
      "加载模型：ResNet-50 loaded. Output embedding dim: 2048\n"
     ]
    }
   ],
   "source": [
    "import torch\n",
    "import torch.nn as nn\n",
    "from torchvision import models, transforms\n",
    "from torch.utils.data import DataLoader, Dataset\n",
    "from PIL import Image\n",
    "import os\n",
    "\n",
    "# 设置设备（优先使用GPU）\n",
    "device = torch.device(\"cuda\" if torch.cuda.is_available() else \"cpu\")\n",
    "print(f\"\\n使用设备: {device}\")\n",
    "\n",
    "# 1. 加载预训练模型\n",
    "model = models.resnet50(weights=models.ResNet50_Weights.IMAGENET1K_V2)\n",
    "model = nn.Sequential(*list(model.children())[:-1])  # 移除最后一层，保留主干网络\n",
    "model = model.to(device).eval()  # 设置为评估模式\n",
    "print(f\"\\n加载模型：ResNet-50 loaded. Output embedding dim: 2048\")"
   ]
  },
  {
   "cell_type": "code",
   "execution_count": 12,
   "id": "b15f7bfa-f249-44ab-ae0d-f85b64ffbfa7",
   "metadata": {},
   "outputs": [
    {
     "name": "stdout",
     "output_type": "stream",
     "text": [
      "\n",
      "Cat embeddings: torch.Size([20, 2048])\n",
      "\n",
      "Dog embeddings: torch.Size([20, 2048])\n"
     ]
    }
   ],
   "source": [
    "# 2. 定义图像预处理\n",
    "preprocess = transforms.Compose([\n",
    "    transforms.Resize(256),\n",
    "    transforms.CenterCrop(224),\n",
    "    transforms.ToTensor(),\n",
    "    transforms.Normalize(\n",
    "        mean=[0.485, 0.456, 0.406],\n",
    "        std=[0.229, 0.224, 0.225]\n",
    "    )\n",
    "])\n",
    "\n",
    "# 3. 创建自定义数据集\n",
    "class ImageDataset(Dataset):\n",
    "    def __init__(self, root_dir, transform=None):\n",
    "        self.root_dir = root_dir\n",
    "        self.transform = transform\n",
    "        self.image_paths = [os.path.join(root_dir, f) for f in os.listdir(root_dir) \n",
    "                          if f.lower().endswith(('.png', '.jpg', '.jpeg'))]\n",
    "    \n",
    "    def __len__(self):\n",
    "        return len(self.image_paths)\n",
    "    \n",
    "    def __getitem__(self, idx):\n",
    "        img_path = self.image_paths[idx]\n",
    "        image = Image.open(img_path).convert('RGB')\n",
    "        if self.transform:\n",
    "            image = self.transform(image)\n",
    "        return image, img_path\n",
    "\n",
    "# 4. 创建数据集和加载器\n",
    "cat_dataset = ImageDataset(\"/mnt/workspace/ai/datasets/cat\", transform=preprocess)\n",
    "dog_dataset = ImageDataset(\"/mnt/workspace/ai/datasets/dog\", transform=preprocess)\n",
    "\n",
    "cat_loader = DataLoader(cat_dataset, batch_size=8, shuffle=False)\n",
    "dog_loader = DataLoader(dog_dataset, batch_size=8, shuffle=False)\n",
    "\n",
    "# 5. 特征提取函数\n",
    "def extract_features(loader, model):\n",
    "    features = []\n",
    "    paths = []\n",
    "    with torch.no_grad():  # 禁用梯度计算\n",
    "        for images, batch_paths in loader:\n",
    "            images = images.to(device)\n",
    "            outputs = model(images)\n",
    "            # 压缩空间维度 (batch, 2048, 1, 1) -> (batch, 2048)\n",
    "            features.append(outputs.squeeze())\n",
    "            paths.extend(batch_paths)\n",
    "    return torch.cat(features), paths\n",
    "\n",
    "# 6. 提取特征\n",
    "cat_features, cat_paths = extract_features(cat_loader, model)\n",
    "dog_features, dog_paths = extract_features(dog_loader, model)\n",
    "\n",
    "# 7. 输出结果\n",
    "print(\"\\nCat embeddings:\", cat_features.shape)\n",
    "# for path, feat in zip(cat_paths, cat_features):\n",
    "#     print(f\"{os.path.basename(path)}: {feat.cpu().numpy()[:5]}... (shape: {feat.shape})\")\n",
    "\n",
    "print(\"\\nDog embeddings:\", dog_features.shape)\n",
    "# for path, feat in zip(dog_paths, dog_features):\n",
    "#     print(f\"{os.path.basename(path)}: {feat.cpu().numpy()[:5]}... (shape: {feat.shape})\")\n"
   ]
  },
  {
   "cell_type": "code",
   "execution_count": 13,
   "id": "6c42808f-90fd-4917-aa14-e34873ea0fa1",
   "metadata": {},
   "outputs": [
    {
     "name": "stdout",
     "output_type": "stream",
     "text": [
      "合并后特征： (40, 2048)\n",
      "生成标签： 40\n",
      "\n",
      "训练二分类逻辑回归模型...\n",
      "训练完成！\n"
     ]
    }
   ],
   "source": [
    "import numpy as np\n",
    "from sklearn.linear_model import LogisticRegression\n",
    "\n",
    "total_features = np.vstack((cat_features , dog_features))\n",
    "print(\"合并后特征：\", total_features.shape)\n",
    "\n",
    "labels = [1]*len(cat_features) + [0]*len(dog_features)\n",
    "print(\"生成标签：\", len(labels))\n",
    "\n",
    "# --- 训练逻辑回归模型 ---\n",
    "print(\"\\n训练二分类逻辑回归模型...\")\n",
    "clf = LogisticRegression(max_iter=1000) \n",
    "X = total_features\n",
    "y = labels\n",
    "clf.fit(X, y)\n",
    "print(\"训练完成！\")"
   ]
  },
  {
   "cell_type": "code",
   "execution_count": 16,
   "id": "1821a408-7cfb-4ba5-b091-873b6e76d0fe",
   "metadata": {},
   "outputs": [
    {
     "name": "stdout",
     "output_type": "stream",
     "text": [
      "\n",
      "预测函数:\n",
      "\n",
      "测试:\n",
      "动物分类: 猫 (置信度: 99.26%) -> /mnt/workspace/ai/datasets/temp/validation/Cat/at-conf-0.45034844-t-1651311051196.jpg\n",
      "动物分类: 狗 (置信度: 73.08%) -> /mnt/workspace/ai/datasets/temp/validation/Cat/ar-conf-0.55699575-t-1659113731851.jpg\n",
      "动物分类: 猫 (置信度: 98.89%) -> /mnt/workspace/ai/datasets/temp/validation/Cat/ca-conf-0.3730776-t-1657754105074.jpg\n",
      "动物分类: 猫 (置信度: 98.73%) -> /mnt/workspace/ai/datasets/temp/validation/Cat/br-conf-0.17578125-t-1645301235269.jpg\n",
      "动物分类: 猫 (置信度: 95.16%) -> /mnt/workspace/ai/datasets/temp/validation/Cat/be-conf-0.21952455-t-1648458453791.jpg\n",
      "动物分类: 狗 (置信度: 82.40%) -> /mnt/workspace/ai/datasets/temp/validation/Dog/cz-conf-0.60546875-t-1645212375080.jpg\n",
      "动物分类: 狗 (置信度: 98.78%) -> /mnt/workspace/ai/datasets/temp/validation/Dog/ec-conf-0.13535422-t-1656356456266.jpg\n",
      "动物分类: 狗 (置信度: 75.53%) -> /mnt/workspace/ai/datasets/temp/validation/Dog/ec-conf-0.50390625-t-1638406234410.jpg\n",
      "动物分类: 狗 (置信度: 95.67%) -> /mnt/workspace/ai/datasets/temp/validation/Dog/de-conf-0.42777854-t-1647792628041.jpg\n",
      "动物分类: 狗 (置信度: 98.25%) -> /mnt/workspace/ai/datasets/temp/validation/Dog/English-us-conf-0.734375-t-1634875777939.jpg\n"
     ]
    }
   ],
   "source": [
    "import matplotlib.pyplot as plt\n",
    "import glob\n",
    "import random\n",
    "\n",
    "print(\"\\n预测函数:\")\n",
    "def predict_sentiment(image_path):\n",
    "    image = Image.open(image_path).convert(\"RGB\")\n",
    "    input_tensor = preprocess(image)\n",
    "    input_batch = input_tensor.unsqueeze(0)  # 增加批次维度\n",
    "    \n",
    "    # 4. 提取特征\n",
    "    with torch.no_grad():\n",
    "        features = model(input_batch)\n",
    "        \n",
    "    # 展平特征向量 [1, 2048, 1, 1] -> [1, 2048]\n",
    "    features = torch.flatten(features, 1)  \n",
    "    \n",
    "    proba = clf.predict_proba(features)[0]\n",
    "    prediction = clf.predict(features)[0]\n",
    "    \n",
    "    sentiment = \"猫\" if prediction == 1 else \"狗\"\n",
    "    print(f\"动物分类: {sentiment} (置信度: {max(proba):.2%}) -> {image_path}\")\n",
    "\n",
    "    # plt.imshow(image)\n",
    "    # plt.axis('off')  # 关闭坐标轴\n",
    "    # plt.show()\n",
    "\n",
    "\n",
    "print(\"\\n测试:\")\n",
    "def get_random_files_glob(folder_path, num_files=5):\n",
    "    \"\"\"使用glob实现的版本（支持文件模式过滤）\"\"\"\n",
    "    all_files = glob.glob(os.path.join(folder_path, \"*\"))\n",
    "    all_files = [f for f in all_files if f.lower().endswith(('.jpg', '.png'))]\n",
    "    return random.sample(all_files, min(num_files, len(all_files)))\n",
    "    \n",
    "for review in get_random_files_glob(\"/mnt/workspace/ai/datasets/temp/validation/Cat/\"):\n",
    "    predict_sentiment(review)\n",
    "for review in get_random_files_glob(\"/mnt/workspace/ai/datasets/temp/validation/Dog/\"):\n",
    "    predict_sentiment(review)"
   ]
  },
  {
   "cell_type": "code",
   "execution_count": null,
   "id": "aa612fe9-1a92-4f78-aa26-0f7957d1a367",
   "metadata": {},
   "outputs": [],
   "source": []
  }
 ],
 "metadata": {
  "kernelspec": {
   "display_name": "AI开发",
   "language": "python",
   "name": "ai"
  },
  "language_info": {
   "codemirror_mode": {
    "name": "ipython",
    "version": 3
   },
   "file_extension": ".py",
   "mimetype": "text/x-python",
   "name": "python",
   "nbconvert_exporter": "python",
   "pygments_lexer": "ipython3",
   "version": "3.9.23"
  }
 },
 "nbformat": 4,
 "nbformat_minor": 5
}
